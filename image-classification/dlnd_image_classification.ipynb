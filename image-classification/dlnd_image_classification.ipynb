{
 "cells": [
  {
   "cell_type": "markdown",
   "metadata": {
    "collapsed": true,
    "deletable": true,
    "editable": true
   },
   "source": [
    "# Image Classification\n",
    "In this project, you'll classify images from the [CIFAR-10 dataset](https://www.cs.toronto.edu/~kriz/cifar.html).  The dataset consists of airplanes, dogs, cats, and other objects. You'll preprocess the images, then train a convolutional neural network on all the samples. The images need to be normalized and the labels need to be one-hot encoded.  You'll get to apply what you learned and build a convolutional, max pooling, dropout, and fully connected layers.  At the end, you'll get to see your neural network's predictions on the sample images.\n",
    "## Get the Data\n",
    "Run the following cell to download the [CIFAR-10 dataset for python](https://www.cs.toronto.edu/~kriz/cifar-10-python.tar.gz)."
   ]
  },
  {
   "cell_type": "code",
   "execution_count": 1,
   "metadata": {
    "collapsed": false,
    "deletable": true,
    "editable": true
   },
   "outputs": [
    {
     "name": "stdout",
     "output_type": "stream",
     "text": [
      "All files found!\n"
     ]
    }
   ],
   "source": [
    "\"\"\"\n",
    "DON'T MODIFY ANYTHING IN THIS CELL THAT IS BELOW THIS LINE\n",
    "\"\"\"\n",
    "from urllib.request import urlretrieve\n",
    "from os.path import isfile, isdir\n",
    "from tqdm import tqdm\n",
    "import problem_unittests as tests\n",
    "import tarfile\n",
    "\n",
    "cifar10_dataset_folder_path = 'cifar-10-batches-py'\n",
    "\n",
    "# Use Floyd's cifar-10 dataset if present\n",
    "floyd_cifar10_location = '/input/cifar-10/python.tar.gz'\n",
    "if isfile(floyd_cifar10_location):\n",
    "    tar_gz_path = floyd_cifar10_location\n",
    "else:\n",
    "    tar_gz_path = 'cifar-10-python.tar.gz'\n",
    "\n",
    "class DLProgress(tqdm):\n",
    "    last_block = 0\n",
    "\n",
    "    def hook(self, block_num=1, block_size=1, total_size=None):\n",
    "        self.total = total_size\n",
    "        self.update((block_num - self.last_block) * block_size)\n",
    "        self.last_block = block_num\n",
    "\n",
    "if not isfile(tar_gz_path):\n",
    "    with DLProgress(unit='B', unit_scale=True, miniters=1, desc='CIFAR-10 Dataset') as pbar:\n",
    "        urlretrieve(\n",
    "            'https://www.cs.toronto.edu/~kriz/cifar-10-python.tar.gz',\n",
    "            tar_gz_path,\n",
    "            pbar.hook)\n",
    "\n",
    "if not isdir(cifar10_dataset_folder_path):\n",
    "    with tarfile.open(tar_gz_path) as tar:\n",
    "        tar.extractall()\n",
    "        tar.close()\n",
    "\n",
    "\n",
    "tests.test_folder_path(cifar10_dataset_folder_path)"
   ]
  },
  {
   "cell_type": "markdown",
   "metadata": {
    "deletable": true,
    "editable": true
   },
   "source": [
    "## Explore the Data\n",
    "The dataset is broken into batches to prevent your machine from running out of memory.  The CIFAR-10 dataset consists of 5 batches, named `data_batch_1`, `data_batch_2`, etc.. Each batch contains the labels and images that are one of the following:\n",
    "* airplane\n",
    "* automobile\n",
    "* bird\n",
    "* cat\n",
    "* deer\n",
    "* dog\n",
    "* frog\n",
    "* horse\n",
    "* ship\n",
    "* truck\n",
    "\n",
    "Understanding a dataset is part of making predictions on the data.  Play around with the code cell below by changing the `batch_id` and `sample_id`. The `batch_id` is the id for a batch (1-5). The `sample_id` is the id for a image and label pair in the batch.\n",
    "\n",
    "Ask yourself \"What are all possible labels?\", \"What is the range of values for the image data?\", \"Are the labels in order or random?\".  Answers to questions like these will help you preprocess the data and end up with better predictions."
   ]
  },
  {
   "cell_type": "code",
   "execution_count": 2,
   "metadata": {
    "collapsed": false,
    "deletable": true,
    "editable": true
   },
   "outputs": [
    {
     "name": "stdout",
     "output_type": "stream",
     "text": [
      "\n",
      "Stats of batch 1:\n",
      "Samples: 10000\n",
      "Label Counts: {0: 1005, 1: 974, 2: 1032, 3: 1016, 4: 999, 5: 937, 6: 1030, 7: 1001, 8: 1025, 9: 981}\n",
      "First 20 Labels: [6, 9, 9, 4, 1, 1, 2, 7, 8, 3, 4, 7, 7, 2, 9, 9, 9, 3, 2, 6]\n",
      "\n",
      "Example of Image 5:\n",
      "Image - Min Value: 0 Max Value: 252\n",
      "Image - Shape: (32, 32, 3)\n",
      "Label - Label Id: 1 Name: automobile\n"
     ]
    },
    {
     "data": {
      "image/png": "[encoded data removed]",
      "text/plain": [
       "<matplotlib.figure.Figure at 0x7f56eca72c18>"
      ]
     },
     "metadata": {
      "image/png": {
       "height": 250,
       "width": 253
      }
     },
     "output_type": "display_data"
    }
   ],
   "source": [
    "%matplotlib inline\n",
    "%config InlineBackend.figure_format = 'retina'\n",
    "\n",
    "import helper\n",
    "import numpy as np\n",
    "\n",
    "# Explore the dataset\n",
    "batch_id = 1\n",
    "sample_id = 5\n",
    "helper.display_stats(cifar10_dataset_folder_path, batch_id, sample_id)"
   ]
  },
  {
   "cell_type": "markdown",
   "metadata": {
    "deletable": true,
    "editable": true
   },
   "source": [
    "## Implement Preprocess Functions\n",
    "### Normalize\n",
    "In the cell below, implement the `normalize` function to take in image data, `x`, and return it as a normalized Numpy array. The values should be in the range of 0 to 1, inclusive.  The return object should be the same shape as `x`."
   ]
  },
  {
   "cell_type": "code",
   "execution_count": 47,
   "metadata": {
    "collapsed": false,
    "deletable": true,
    "editable": true
   },
   "outputs": [
    {
     "name": "stdout",
     "output_type": "stream",
     "text": [
      "Tests Passed\n"
     ]
    }
   ],
   "source": [
    "def normalize(x):\n",
    "    \"\"\"\n",
    "    Normalize a list of sample image data in the range of 0 to 1\n",
    "    : x: List of image data.  The image shape is (32, 32, 3)\n",
    "    : return: Numpy array of normalize data\n",
    "    \"\"\"\n",
    "    # TODO: Implement Function\n",
    "    return np.array(x) / 255\n",
    "\n",
    "\n",
    "\"\"\"\n",
    "DON'T MODIFY ANYTHING IN THIS CELL THAT IS BELOW THIS LINE\n",
    "\"\"\"\n",
    "tests.test_normalize(normalize)"
   ]
  },
  {
   "cell_type": "markdown",
   "metadata": {
    "deletable": true,
    "editable": true
   },
   "source": [
    "### One-hot encode\n",
    "Just like the previous code cell, you'll be implementing a function for preprocessing.  This time, you'll implement the `one_hot_encode` function. The input, `x`, are a list of labels.  Implement the function to return the list of labels as One-Hot encoded Numpy array.  The possible values for labels are 0 to 9. The one-hot encoding function should return the same encoding for each value between each call to `one_hot_encode`.  Make sure to save the map of encodings outside the function.\n",
    "\n",
    "Hint: Don't reinvent the wheel."
   ]
  },
  {
   "cell_type": "code",
   "execution_count": 39,
   "metadata": {
    "collapsed": false,
    "deletable": true,
    "editable": true
   },
   "outputs": [
    {
     "name": "stdout",
     "output_type": "stream",
     "text": [
      "Tests Passed\n"
     ]
    }
   ],
   "source": [
    "def single_one_hot(label):\n",
    "    one_hot = np.zeros(10)\n",
    "    one_hot[label] = 1\n",
    "    return one_hot\n",
    "\n",
    "def one_hot_encode(x):\n",
    "    \"\"\"\n",
    "    One hot encode a list of sample labels. Return a one-hot encoded vector for each label.\n",
    "    : x: List of sample Labels\n",
    "    : return: Numpy array of one-hot encoded labels\n",
    "    \"\"\"\n",
    "    # TODO: Implement Function\n",
    "    array = np.array(x)\n",
    "    array = np.reshape(array, (-1,1))    \n",
    "    return np.apply_along_axis(single_one_hot, 1, array)\n",
    "\n",
    "\n",
    "\"\"\"\n",
    "DON'T MODIFY ANYTHING IN THIS CELL THAT IS BELOW THIS LINE\n",
    "\"\"\"\n",
    "tests.test_one_hot_encode(one_hot_encode)"
   ]
  },
  {
   "cell_type": "markdown",
   "metadata": {
    "deletable": true,
    "editable": true
   },
   "source": [
    "### Randomize Data\n",
    "As you saw from exploring the data above, the order of the samples are randomized.  It doesn't hurt to randomize it again, but you don't need to for this dataset."
   ]
  },
  {
   "cell_type": "markdown",
   "metadata": {
    "deletable": true,
    "editable": true
   },
   "source": [
    "## Preprocess all the data and save it\n",
    "Running the code cell below will preprocess all the CIFAR-10 data and save it to file. The code below also uses 10% of the training data for validation."
   ]
  },
  {
   "cell_type": "code",
   "execution_count": 5,
   "metadata": {
    "collapsed": true,
    "deletable": true,
    "editable": true
   },
   "outputs": [],
   "source": [
    "\"\"\"\n",
    "DON'T MODIFY ANYTHING IN THIS CELL\n",
    "\"\"\"\n",
    "# Preprocess Training, Validation, and Testing Data\n",
    "helper.preprocess_and_save_data(cifar10_dataset_folder_path, normalize, one_hot_encode)"
   ]
  },
  {
   "cell_type": "markdown",
   "metadata": {
    "deletable": true,
    "editable": true
   },
   "source": [
    "# Check Point\n",
    "This is your first checkpoint.  If you ever decide to come back to this notebook or have to restart the notebook, you can start from here.  The preprocessed data has been saved to disk."
   ]
  },
  {
   "cell_type": "code",
   "execution_count": 6,
   "metadata": {
    "collapsed": true,
    "deletable": true,
    "editable": true
   },
   "outputs": [],
   "source": [
    "\"\"\"\n",
    "DON'T MODIFY ANYTHING IN THIS CELL\n",
    "\"\"\"\n",
    "import pickle\n",
    "import problem_unittests as tests\n",
    "import helper\n",
    "\n",
    "# Load the Preprocessed Validation data\n",
    "valid_features, valid_labels = pickle.load(open('preprocess_validation.p', mode='rb'))"
   ]
  },
  {
   "cell_type": "markdown",
   "metadata": {
    "deletable": true,
    "editable": true
   },
   "source": [
    "## Build the network\n",
    "For the neural network, you'll build each layer into a function.  Most of the code you've seen has been outside of functions. To test your code more thoroughly, we require that you put each layer in a function.  This allows us to give you better feedback and test for simple mistakes using our unittests before you submit your project.\n",
    "\n",
    ">**Note:** If you're finding it hard to dedicate enough time for this course each week, we've provided a small shortcut to this part of the project. In the next couple of problems, you'll have the option to use classes from the [TensorFlow Layers](https://www.tensorflow.org/api_docs/python/tf/layers) or [TensorFlow Layers (contrib)](https://www.tensorflow.org/api_guides/python/contrib.layers) packages to build each layer, except the layers you build in the \"Convolutional and Max Pooling Layer\" section.  TF Layers is similar to Keras's and TFLearn's abstraction to layers, so it's easy to pickup.\n",
    "\n",
    ">However, if you would like to get the most out of this course, try to solve all the problems _without_ using anything from the TF Layers packages. You **can** still use classes from other packages that happen to have the same name as ones you find in TF Layers! For example, instead of using the TF Layers version of the `conv2d` class, [tf.layers.conv2d](https://www.tensorflow.org/api_docs/python/tf/layers/conv2d), you would want to use the TF Neural Network version of `conv2d`, [tf.nn.conv2d](https://www.tensorflow.org/api_docs/python/tf/nn/conv2d). \n",
    "\n",
    "Let's begin!\n",
    "\n",
    "### Input\n",
    "The neural network needs to read the image data, one-hot encoded labels, and dropout keep probability. Implement the following functions\n",
    "* Implement `neural_net_image_input`\n",
    " * Return a [TF Placeholder](https://www.tensorflow.org/api_docs/python/tf/placeholder)\n",
    " * Set the shape using `image_shape` with batch size set to `None`.\n",
    " * Name the TensorFlow placeholder \"x\" using the TensorFlow `name` parameter in the [TF Placeholder](https://www.tensorflow.org/api_docs/python/tf/placeholder).\n",
    "* Implement `neural_net_label_input`\n",
    " * Return a [TF Placeholder](https://www.tensorflow.org/api_docs/python/tf/placeholder)\n",
    " * Set the shape using `n_classes` with batch size set to `None`.\n",
    " * Name the TensorFlow placeholder \"y\" using the TensorFlow `name` parameter in the [TF Placeholder](https://www.tensorflow.org/api_docs/python/tf/placeholder).\n",
    "* Implement `neural_net_keep_prob_input`\n",
    " * Return a [TF Placeholder](https://www.tensorflow.org/api_docs/python/tf/placeholder) for dropout keep probability.\n",
    " * Name the TensorFlow placeholder \"keep_prob\" using the TensorFlow `name` parameter in the [TF Placeholder](https://www.tensorflow.org/api_docs/python/tf/placeholder).\n",
    "\n",
    "These names will be used at the end of the project to load your saved model.\n",
    "\n",
    "Note: `None` for shapes in TensorFlow allow for a dynamic size."
   ]
  },
  {
   "cell_type": "code",
   "execution_count": 7,
   "metadata": {
    "collapsed": false,
    "deletable": true,
    "editable": true
   },
   "outputs": [
    {
     "name": "stdout",
     "output_type": "stream",
     "text": [
      "Image Input Tests Passed.\n",
      "Label Input Tests Passed.\n",
      "Keep Prob Tests Passed.\n"
     ]
    }
   ],
   "source": [
    "import tensorflow as tf\n",
    "\n",
    "def neural_net_image_input(image_shape):\n",
    "    \"\"\"\n",
    "    Return a Tensor for a batch of image input\n",
    "    : image_shape: Shape of the images\n",
    "    : return: Tensor for image input.\n",
    "    \"\"\"\n",
    "    # TODO: Implement Function\n",
    "    image_shape = [None] + list(image_shape)\n",
    "    return tf.placeholder(tf.float32, image_shape, name=\"x\")\n",
    "\n",
    "\n",
    "def neural_net_label_input(n_classes):\n",
    "    \"\"\"\n",
    "    Return a Tensor for a batch of label input\n",
    "    : n_classes: Number of classes\n",
    "    : return: Tensor for label input.\n",
    "    \"\"\"\n",
    "    # TODO: Implement Function\n",
    "    return tf.placeholder(tf.float32, [None, n_classes], name=\"y\")\n",
    "\n",
    "\n",
    "def neural_net_keep_prob_input():\n",
    "    \"\"\"\n",
    "    Return a Tensor for keep probability\n",
    "    : return: Tensor for keep probability.\n",
    "    \"\"\"\n",
    "    # TODO: Implement Function\n",
    "    return tf.placeholder(tf.float32, name=\"keep_prob\")\n",
    "\n",
    "\n",
    "\"\"\"\n",
    "DON'T MODIFY ANYTHING IN THIS CELL THAT IS BELOW THIS LINE\n",
    "\"\"\"\n",
    "tf.reset_default_graph()\n",
    "tests.test_nn_image_inputs(neural_net_image_input)\n",
    "tests.test_nn_label_inputs(neural_net_label_input)\n",
    "tests.test_nn_keep_prob_inputs(neural_net_keep_prob_input)"
   ]
  },
  {
   "cell_type": "markdown",
   "metadata": {
    "deletable": true,
    "editable": true
   },
   "source": [
    "### Convolution and Max Pooling Layer\n",
    "Convolution layers have a lot of success with images. For this code cell, you should implement the function `conv2d_maxpool` to apply convolution then max pooling:\n",
    "* Create the weight and bias using `conv_ksize`, `conv_num_outputs` and the shape of `x_tensor`.\n",
    "* Apply a convolution to `x_tensor` using weight and `conv_strides`.\n",
    " * We recommend you use same padding, but you're welcome to use any padding.\n",
    "* Add bias\n",
    "* Add a nonlinear activation to the convolution.\n",
    "* Apply Max Pooling using `pool_ksize` and `pool_strides`.\n",
    " * We recommend you use same padding, but you're welcome to use any padding.\n",
    "\n",
    "**Note:** You **can't** use [TensorFlow Layers](https://www.tensorflow.org/api_docs/python/tf/layers) or [TensorFlow Layers (contrib)](https://www.tensorflow.org/api_guides/python/contrib.layers) for **this** layer, but you can still use TensorFlow's [Neural Network](https://www.tensorflow.org/api_docs/python/tf/nn) package. You may still use the shortcut option for all the **other** layers."
   ]
  },
  {
   "cell_type": "code",
   "execution_count": 68,
   "metadata": {
    "collapsed": false,
    "deletable": true,
    "editable": true
   },
   "outputs": [
    {
     "name": "stdout",
     "output_type": "stream",
     "text": [
      "Tests Passed\n"
     ]
    }
   ],
   "source": [
    "def conv2d_maxpool(x_tensor, conv_num_outputs, conv_ksize, conv_strides, pool_ksize, pool_strides):\n",
    "    \"\"\"\n",
    "    Apply convolution then max pooling to x_tensor\n",
    "    :param x_tensor: TensorFlow Tensor\n",
    "    :param conv_num_outputs: Number of outputs for the convolutional layer\n",
    "    :param conv_ksize: kernal size 2-D Tuple for the convolutional layer\n",
    "    :param conv_strides: Stride 2-D Tuple for convolution\n",
    "    :param pool_ksize: kernal size 2-D Tuple for pool\n",
    "    :param pool_strides: Stride 2-D Tuple for pool\n",
    "    : return: A tensor that represents convolution and max pooling of x_tensor\n",
    "    \"\"\"\n",
    "    # Extract height, width and depth from tensor shape.\n",
    "    x_shape = x_tensor.get_shape().as_list()\n",
    "    _, _, _, x_d = x_shape\n",
    "    # Create variables for weights and biases.\n",
    "    weights = tf.Variable(tf.truncated_normal([conv_ksize[0],conv_ksize[1],x_d,conv_num_outputs], mean=0.0, stddev=0.1, dtype=tf.float32))\n",
    "    bias = tf.Variable(tf.truncated_normal([conv_num_outputs], mean=0.0, stddev=0.1, dtype=tf.float32))\n",
    "    # Conv\n",
    "    x = tf.nn.conv2d(x_tensor, weights, [1, conv_strides[0], conv_strides[1], 1], \"SAME\")\n",
    "    x = tf.nn.bias_add(x, bias)\n",
    "    # ReLu for non-linearity\n",
    "    x = tf.nn.elu(x)\n",
    "    # Max Pooling\n",
    "    x = tf.nn.max_pool(x, [1, pool_ksize[0], pool_ksize[1], 1], \n",
    "                       [1, pool_strides[0], pool_strides[1], 1], \"SAME\")\n",
    "    \n",
    "    return x \n",
    "\n",
    "\n",
    "\"\"\"\n",
    "DON'T MODIFY ANYTHING IN THIS CELL THAT IS BELOW THIS LINE\n",
    "\"\"\"\n",
    "tests.test_con_pool(conv2d_maxpool)"
   ]
  },
  {
   "cell_type": "markdown",
   "metadata": {
    "deletable": true,
    "editable": true
   },
   "source": [
    "### Flatten Layer\n",
    "Implement the `flatten` function to change the dimension of `x_tensor` from a 4-D tensor to a 2-D tensor.  The output should be the shape (*Batch Size*, *Flattened Image Size*). Shortcut option: you can use classes from the [TensorFlow Layers](https://www.tensorflow.org/api_docs/python/tf/layers) or [TensorFlow Layers (contrib)](https://www.tensorflow.org/api_guides/python/contrib.layers) packages for this layer. For more of a challenge, only use other TensorFlow packages."
   ]
  },
  {
   "cell_type": "code",
   "execution_count": 69,
   "metadata": {
    "collapsed": false,
    "deletable": true,
    "editable": true
   },
   "outputs": [
    {
     "name": "stdout",
     "output_type": "stream",
     "text": [
      "Tests Passed\n"
     ]
    }
   ],
   "source": [
    "def flatten(x_tensor):\n",
    "    \"\"\"\n",
    "    Flatten x_tensor to (Batch Size, Flattened Image Size)\n",
    "    : x_tensor: A tensor of size (Batch Size, ...), where ... are the image dimensions.\n",
    "    : return: A tensor of size (Batch Size, Flattened Image Size).\n",
    "    \"\"\"\n",
    "    x_shape = x_tensor.get_shape().as_list()\n",
    "    _, x_h, x_w, x_d = x_shape\n",
    "    flat = tf.reshape(x_tensor, [-1, x_h*x_w*x_d])\n",
    "    return flat\n",
    "\n",
    "\n",
    "\"\"\"\n",
    "DON'T MODIFY ANYTHING IN THIS CELL THAT IS BELOW THIS LINE\n",
    "\"\"\"\n",
    "tests.test_flatten(flatten)"
   ]
  },
  {
   "cell_type": "markdown",
   "metadata": {
    "deletable": true,
    "editable": true
   },
   "source": [
    "### Fully-Connected Layer\n",
    "Implement the `fully_conn` function to apply a fully connected layer to `x_tensor` with the shape (*Batch Size*, *num_outputs*). Shortcut option: you can use classes from the [TensorFlow Layers](https://www.tensorflow.org/api_docs/python/tf/layers) or [TensorFlow Layers (contrib)](https://www.tensorflow.org/api_guides/python/contrib.layers) packages for this layer. For more of a challenge, only use other TensorFlow packages."
   ]
  },
  {
   "cell_type": "code",
   "execution_count": 70,
   "metadata": {
    "collapsed": false,
    "deletable": true,
    "editable": true
   },
   "outputs": [
    {
     "name": "stdout",
     "output_type": "stream",
     "text": [
      "Tests Passed\n"
     ]
    }
   ],
   "source": [
    "def fully_conn(x_tensor, num_outputs):\n",
    "    \"\"\"\n",
    "    Apply a fully connected layer to x_tensor using weight and bias\n",
    "    : x_tensor: A 2-D tensor where the first dimension is batch size.\n",
    "    : num_outputs: The number of output that the new tensor should be.\n",
    "    : return: A 2-D tensor where the second dimension is num_outputs.\n",
    "    \"\"\"\n",
    "    x_shape = x_tensor.get_shape().as_list()\n",
    "    weights = tf.Variable(tf.truncated_normal([x_shape[1], num_outputs], mean=0.0, stddev=0.1, dtype=tf.float32))\n",
    "    biases = tf.Variable(tf.truncated_normal([num_outputs], mean=0.0, stddev=0.1, dtype=tf.float32))\n",
    "    # Fully connected layer\n",
    "    fully_conn = tf.add(tf.matmul(x_tensor, weights), biases)\n",
    "    # ReLu for non-linearity\n",
    "    fully_conn = tf.nn.elu(fully_conn)\n",
    "    return fully_conn\n",
    "\n",
    "\"\"\"\n",
    "DON'T MODIFY ANYTHING IN THIS CELL THAT IS BELOW THIS LINE\n",
    "\"\"\"\n",
    "tests.test_fully_conn(fully_conn)"
   ]
  },
  {
   "cell_type": "markdown",
   "metadata": {
    "deletable": true,
    "editable": true
   },
   "source": [
    "### Output Layer\n",
    "Implement the `output` function to apply a fully connected layer to `x_tensor` with the shape (*Batch Size*, *num_outputs*). Shortcut option: you can use classes from the [TensorFlow Layers](https://www.tensorflow.org/api_docs/python/tf/layers) or [TensorFlow Layers (contrib)](https://www.tensorflow.org/api_guides/python/contrib.layers) packages for this layer. For more of a challenge, only use other TensorFlow packages.\n",
    "\n",
    "**Note:** Activation, softmax, or cross entropy should **not** be applied to this."
   ]
  },
  {
   "cell_type": "code",
   "execution_count": 71,
   "metadata": {
    "collapsed": false,
    "deletable": true,
    "editable": true
   },
   "outputs": [
    {
     "name": "stdout",
     "output_type": "stream",
     "text": [
      "Tests Passed\n"
     ]
    }
   ],
   "source": [
    "def output(x_tensor, num_outputs):\n",
    "    \"\"\"\n",
    "    Apply a output layer to x_tensor using weight and bias\n",
    "    : x_tensor: A 2-D tensor where the first dimension is batch size.\n",
    "    : num_outputs: The number of output that the new tensor should be.\n",
    "    : return: A 2-D tensor where the second dimension is num_outputs.\n",
    "    \"\"\"\n",
    "    x_shape = x_tensor.get_shape().as_list()\n",
    "    weights = tf.Variable(tf.truncated_normal([x_shape[1], num_outputs], mean=0.0, stddev=0.1, dtype=tf.float32))\n",
    "    biases = tf.Variable(tf.truncated_normal([num_outputs], mean=0.0, stddev=0.1, dtype=tf.float32))\n",
    "    # Output layer\n",
    "    return tf.add(tf.matmul(x_tensor, weights), biases)\n",
    "\n",
    "\n",
    "\"\"\"\n",
    "DON'T MODIFY ANYTHING IN THIS CELL THAT IS BELOW THIS LINE\n",
    "\"\"\"\n",
    "tests.test_output(output)"
   ]
  },
  {
   "cell_type": "markdown",
   "metadata": {
    "deletable": true,
    "editable": true
   },
   "source": [
    "### Create Convolutional Model\n",
    "Implement the function `conv_net` to create a convolutional neural network model. The function takes in a batch of images, `x`, and outputs logits.  Use the layers you created above to create this model:\n",
    "\n",
    "* Apply 1, 2, or 3 Convolution and Max Pool layers\n",
    "* Apply a Flatten Layer\n",
    "* Apply 1, 2, or 3 Fully Connected Layers\n",
    "* Apply an Output Layer\n",
    "* Return the output\n",
    "* Apply [TensorFlow's Dropout](https://www.tensorflow.org/api_docs/python/tf/nn/dropout) to one or more layers in the model using `keep_prob`. "
   ]
  },
  {
   "cell_type": "code",
   "execution_count": 151,
   "metadata": {
    "collapsed": false,
    "deletable": true,
    "editable": true
   },
   "outputs": [
    {
     "name": "stdout",
     "output_type": "stream",
     "text": [
      "Neural Network Built!\n"
     ]
    }
   ],
   "source": [
    "def conv_net(x, keep_prob):\n",
    "    \"\"\"\n",
    "    Create a convolutional neural network model\n",
    "    : x: Placeholder tensor that holds image data.\n",
    "    : keep_prob: Placeholder tensor that hold dropout keep probability.\n",
    "    : return: Tensor that represents logits\n",
    "    \"\"\"\n",
    "    # TODO: Apply 1, 2, or 3 Convolution and Max Pool layers\n",
    "    #    Play around with different number of outputs, kernel size and stride\n",
    "    # Function Definition from Above:\n",
    "    #    conv2d_maxpool(x_tensor, conv_num_outputs, conv_ksize, conv_strides, pool_ksize, pool_strides)\n",
    "    # Layer 1 - (32, 32, 3) to (16, 16, 32)\n",
    "    x = conv2d_maxpool(x, 32, (4, 4), (1, 1), (2, 2), (2, 2))\n",
    "    # Layer 2 - (16, 16, 32) to (8, 8, 64)\n",
    "    x = conv2d_maxpool(x, 64, (2, 2), (1, 1), (2, 2), (2, 2))\n",
    "\n",
    "    # TODO: Apply a Flatten Layer\n",
    "    # Function Definition from Above:\n",
    "    #   flatten(x_tensor)\n",
    "    x = flatten(x)\n",
    "\n",
    "    # TODO: Apply 1, 2, or 3 Fully Connected Layers\n",
    "    #    Play around with different number of outputs\n",
    "    # Function Definition from Above:\n",
    "    #   fully_conn(x_tensor, num_outputs)\n",
    "    x = fully_conn(x, 128)\n",
    "    x = tf.nn.dropout(x, keep_prob)\n",
    "    \n",
    "    # TODO: Apply an Output Layer\n",
    "    #    Set this to the number of classes\n",
    "    # Function Definition from Above:\n",
    "    #   output(x_tensor, num_outputs)\n",
    "    x = output(x, 10)\n",
    "    \n",
    "    # TODO: return output\n",
    "    return x\n",
    "\n",
    "\n",
    "\"\"\"\n",
    "DON'T MODIFY ANYTHING IN THIS CELL THAT IS BELOW THIS LINE\n",
    "\"\"\"\n",
    "\n",
    "##############################\n",
    "## Build the Neural Network ##\n",
    "##############################\n",
    "\n",
    "# Remove previous weights, bias, inputs, etc..\n",
    "tf.reset_default_graph()\n",
    "\n",
    "# Inputs\n",
    "x = neural_net_image_input((32, 32, 3))\n",
    "y = neural_net_label_input(10)\n",
    "keep_prob = neural_net_keep_prob_input()\n",
    "\n",
    "# Model\n",
    "logits = conv_net(x, keep_prob)\n",
    "\n",
    "# Name logits Tensor, so that is can be loaded from disk after training\n",
    "logits = tf.identity(logits, name='logits')\n",
    "\n",
    "# Loss and Optimizer\n",
    "cost = tf.reduce_mean(tf.nn.softmax_cross_entropy_with_logits(logits=logits, labels=y))\n",
    "optimizer = tf.train.AdamOptimizer().minimize(cost)\n",
    "\n",
    "# Accuracy\n",
    "correct_pred = tf.equal(tf.argmax(logits, 1), tf.argmax(y, 1))\n",
    "accuracy = tf.reduce_mean(tf.cast(correct_pred, tf.float32), name='accuracy')\n",
    "\n",
    "tests.test_conv_net(conv_net)"
   ]
  },
  {
   "cell_type": "markdown",
   "metadata": {
    "deletable": true,
    "editable": true
   },
   "source": [
    "## Train the Neural Network\n",
    "### Single Optimization\n",
    "Implement the function `train_neural_network` to do a single optimization.  The optimization should use `optimizer` to optimize in `session` with a `feed_dict` of the following:\n",
    "* `x` for image input\n",
    "* `y` for labels\n",
    "* `keep_prob` for keep probability for dropout\n",
    "\n",
    "This function will be called for each batch, so `tf.global_variables_initializer()` has already been called.\n",
    "\n",
    "Note: Nothing needs to be returned. This function is only optimizing the neural network."
   ]
  },
  {
   "cell_type": "code",
   "execution_count": 152,
   "metadata": {
    "collapsed": false,
    "deletable": true,
    "editable": true
   },
   "outputs": [
    {
     "name": "stdout",
     "output_type": "stream",
     "text": [
      "Tests Passed\n"
     ]
    }
   ],
   "source": [
    "def train_neural_network(session, optimizer, keep_probability, feature_batch, label_batch):\n",
    "    \"\"\"\n",
    "    Optimize the session on a batch of images and labels\n",
    "    : session: Current TensorFlow session\n",
    "    : optimizer: TensorFlow optimizer function\n",
    "    : keep_probability: keep probability\n",
    "    : feature_batch: Batch of Numpy image data\n",
    "    : label_batch: Batch of Numpy label data\n",
    "    \"\"\"\n",
    "    # TODO: Implement Function\n",
    "    session.run(optimizer, feed_dict = {x: feature_batch, y: label_batch, keep_prob: keep_probability})\n",
    "\n",
    "\"\"\"\n",
    "DON'T MODIFY ANYTHING IN THIS CELL THAT IS BELOW THIS LINE\n",
    "\"\"\"\n",
    "tests.test_train_nn(train_neural_network)"
   ]
  },
  {
   "cell_type": "markdown",
   "metadata": {
    "deletable": true,
    "editable": true
   },
   "source": [
    "### Show Stats\n",
    "Implement the function `print_stats` to print loss and validation accuracy.  Use the global variables `valid_features` and `valid_labels` to calculate validation accuracy.  Use a keep probability of `1.0` to calculate the loss and validation accuracy."
   ]
  },
  {
   "cell_type": "code",
   "execution_count": 153,
   "metadata": {
    "collapsed": true,
    "deletable": true,
    "editable": true
   },
   "outputs": [],
   "source": [
    "def print_stats(session, feature_batch, label_batch, cost, accuracy):\n",
    "    \"\"\"\n",
    "    Print information about loss and validation accuracy\n",
    "    : session: Current TensorFlow session\n",
    "    : feature_batch: Batch of Numpy image data\n",
    "    : label_batch: Batch of Numpy label data\n",
    "    : cost: TensorFlow cost function\n",
    "    : accuracy: TensorFlow accuracy function\n",
    "    \"\"\"\n",
    "    # TODO: Implement Function\n",
    "    loss = session.run(cost, feed_dict={\n",
    "            x: feature_batch,\n",
    "            y: label_batch,\n",
    "            keep_prob: 1.})\n",
    "    print(\"Loss: \", loss)\n",
    "    valid_acc = session.run(accuracy, feed_dict={\n",
    "                  x: valid_features,\n",
    "                  y: valid_labels,\n",
    "                  keep_prob: 1.})\n",
    "    print(\"Validation Accuracy: \", valid_acc)"
   ]
  },
  {
   "cell_type": "markdown",
   "metadata": {
    "deletable": true,
    "editable": true
   },
   "source": [
    "### Hyperparameters\n",
    "Tune the following parameters:\n",
    "* Set `epochs` to the number of iterations until the network stops learning or start overfitting\n",
    "* Set `batch_size` to the highest number that your machine has memory for.  Most people set them to common sizes of memory:\n",
    " * 64\n",
    " * 128\n",
    " * 256\n",
    " * ...\n",
    "* Set `keep_probability` to the probability of keeping a node using dropout"
   ]
  },
  {
   "cell_type": "code",
   "execution_count": 159,
   "metadata": {
    "collapsed": true,
    "deletable": true,
    "editable": true
   },
   "outputs": [],
   "source": [
    "# TODO: Tune Parameters\n",
    "epochs = 20\n",
    "batch_size = 128\n",
    "keep_probability = .75"
   ]
  },
  {
   "cell_type": "markdown",
   "metadata": {
    "deletable": true,
    "editable": true
   },
   "source": [
    "### Train on a Single CIFAR-10 Batch\n",
    "Instead of training the neural network on all the CIFAR-10 batches of data, let's use a single batch. This should save time while you iterate on the model to get a better accuracy.  Once the final validation accuracy is 50% or greater, run the model on all the data in the next section."
   ]
  },
  {
   "cell_type": "code",
   "execution_count": 162,
   "metadata": {
    "collapsed": false,
    "deletable": true,
    "editable": true,
    "scrolled": true
   },
   "outputs": [
    {
     "name": "stdout",
     "output_type": "stream",
     "text": [
      "Checking the Training on a Single Batch...\n",
      "Epoch  1, CIFAR-10 Batch 1:  Loss:  1.93414\n",
      "Validation Accuracy:  0.4124\n",
      "Epoch  2, CIFAR-10 Batch 1:  Loss:  1.59667\n",
      "Validation Accuracy:  0.4854\n",
      "Epoch  3, CIFAR-10 Batch 1:  Loss:  1.36541\n",
      "Validation Accuracy:  0.489\n",
      "Epoch  4, CIFAR-10 Batch 1:  Loss:  1.13693\n",
      "Validation Accuracy:  0.505\n",
      "Epoch  5, CIFAR-10 Batch 1:  Loss:  0.967848\n",
      "Validation Accuracy:  0.5292\n",
      "Epoch  6, CIFAR-10 Batch 1:  Loss:  0.844623\n",
      "Validation Accuracy:  0.5434\n",
      "Epoch  7, CIFAR-10 Batch 1:  Loss:  0.702675\n",
      "Validation Accuracy:  0.5508\n",
      "Epoch  8, CIFAR-10 Batch 1:  Loss:  0.58457\n",
      "Validation Accuracy:  0.5576\n",
      "Epoch  9, CIFAR-10 Batch 1:  Loss:  0.497987\n",
      "Validation Accuracy:  0.5682\n",
      "Epoch 10, CIFAR-10 Batch 1:  Loss:  0.436469\n",
      "Validation Accuracy:  0.5808\n",
      "Epoch 11, CIFAR-10 Batch 1:  Loss:  0.366278\n",
      "Validation Accuracy:  0.5748\n",
      "Epoch 12, CIFAR-10 Batch 1:  Loss:  0.283853\n",
      "Validation Accuracy:  0.5782\n",
      "Epoch 13, CIFAR-10 Batch 1:  Loss:  0.249177\n",
      "Validation Accuracy:  0.5744\n",
      "Epoch 14, CIFAR-10 Batch 1:  Loss:  0.223896\n",
      "Validation Accuracy:  0.5868\n",
      "Epoch 15, CIFAR-10 Batch 1:  Loss:  0.198068\n",
      "Validation Accuracy:  0.5794\n",
      "Epoch 16, CIFAR-10 Batch 1:  Loss:  0.139742\n",
      "Validation Accuracy:  0.5866\n",
      "Epoch 17, CIFAR-10 Batch 1:  Loss:  0.113133\n",
      "Validation Accuracy:  0.5876\n",
      "Epoch 18, CIFAR-10 Batch 1:  Loss:  0.0916863\n",
      "Validation Accuracy:  0.5914\n",
      "Epoch 19, CIFAR-10 Batch 1:  Loss:  0.0754499\n",
      "Validation Accuracy:  0.594\n",
      "Epoch 20, CIFAR-10 Batch 1:  Loss:  0.0656054\n",
      "Validation Accuracy:  0.5872\n"
     ]
    }
   ],
   "source": [
    "\"\"\"\n",
    "DON'T MODIFY ANYTHING IN THIS CELL\n",
    "\"\"\"\n",
    "print('Checking the Training on a Single Batch...')\n",
    "with tf.Session() as sess:\n",
    "    # Initializing the variables\n",
    "    sess.run(tf.global_variables_initializer())\n",
    "    \n",
    "    # Training cycle\n",
    "    for epoch in range(epochs):\n",
    "        batch_i = 1\n",
    "        for batch_features, batch_labels in helper.load_preprocess_training_batch(batch_i, batch_size):\n",
    "            train_neural_network(sess, optimizer, keep_probability, batch_features, batch_labels)\n",
    "        print('Epoch {:>2}, CIFAR-10 Batch {}:  '.format(epoch + 1, batch_i), end='')\n",
    "        print_stats(sess, batch_features, batch_labels, cost, accuracy)"
   ]
  },
  {
   "cell_type": "markdown",
   "metadata": {
    "deletable": true,
    "editable": true
   },
   "source": [
    "### Fully Train the Model\n",
    "Now that you got a good accuracy with a single CIFAR-10 batch, try it with all five batches."
   ]
  },
  {
   "cell_type": "code",
   "execution_count": 160,
   "metadata": {
    "collapsed": false,
    "deletable": true,
    "editable": true
   },
   "outputs": [
    {
     "name": "stdout",
     "output_type": "stream",
     "text": [
      "Training...\n",
      "Epoch  1, CIFAR-10 Batch 1:  Loss:  1.84906\n",
      "Validation Accuracy:  0.438\n",
      "Epoch  1, CIFAR-10 Batch 2:  Loss:  1.41476\n",
      "Validation Accuracy:  0.4872\n",
      "Epoch  1, CIFAR-10 Batch 3:  Loss:  1.26895\n",
      "Validation Accuracy:  0.5084\n",
      "Epoch  1, CIFAR-10 Batch 4:  Loss:  1.23172\n",
      "Validation Accuracy:  0.5274\n",
      "Epoch  1, CIFAR-10 Batch 5:  Loss:  1.28659\n",
      "Validation Accuracy:  0.563\n",
      "Epoch  2, CIFAR-10 Batch 1:  Loss:  1.2628\n",
      "Validation Accuracy:  0.5742\n",
      "Epoch  2, CIFAR-10 Batch 2:  Loss:  0.967672\n",
      "Validation Accuracy:  0.5838\n",
      "Epoch  2, CIFAR-10 Batch 3:  Loss:  0.953102\n",
      "Validation Accuracy:  0.5924\n",
      "Epoch  2, CIFAR-10 Batch 4:  Loss:  0.952389\n",
      "Validation Accuracy:  0.6006\n",
      "Epoch  2, CIFAR-10 Batch 5:  Loss:  0.963374\n",
      "Validation Accuracy:  0.616\n",
      "Epoch  3, CIFAR-10 Batch 1:  Loss:  0.968255\n",
      "Validation Accuracy:  0.6102\n",
      "Epoch  3, CIFAR-10 Batch 2:  Loss:  0.804873\n",
      "Validation Accuracy:  0.6218\n",
      "Epoch  3, CIFAR-10 Batch 3:  Loss:  0.739973\n",
      "Validation Accuracy:  0.6254\n",
      "Epoch  3, CIFAR-10 Batch 4:  Loss:  0.802809\n",
      "Validation Accuracy:  0.6316\n",
      "Epoch  3, CIFAR-10 Batch 5:  Loss:  0.752561\n",
      "Validation Accuracy:  0.6448\n",
      "Epoch  4, CIFAR-10 Batch 1:  Loss:  0.811886\n",
      "Validation Accuracy:  0.6486\n",
      "Epoch  4, CIFAR-10 Batch 2:  Loss:  0.618022\n",
      "Validation Accuracy:  0.644\n",
      "Epoch  4, CIFAR-10 Batch 3:  Loss:  0.579688\n",
      "Validation Accuracy:  0.651\n",
      "Epoch  4, CIFAR-10 Batch 4:  Loss:  0.676124\n",
      "Validation Accuracy:  0.6564\n",
      "Epoch  4, CIFAR-10 Batch 5:  Loss:  0.635957\n",
      "Validation Accuracy:  0.6502\n",
      "Epoch  5, CIFAR-10 Batch 1:  Loss:  0.727822\n",
      "Validation Accuracy:  0.6538\n",
      "Epoch  5, CIFAR-10 Batch 2:  Loss:  0.485848\n",
      "Validation Accuracy:  0.659\n",
      "Epoch  5, CIFAR-10 Batch 3:  Loss:  0.497466\n",
      "Validation Accuracy:  0.6614\n",
      "Epoch  5, CIFAR-10 Batch 4:  Loss:  0.572745\n",
      "Validation Accuracy:  0.6642\n",
      "Epoch  5, CIFAR-10 Batch 5:  Loss:  0.501817\n",
      "Validation Accuracy:  0.6684\n",
      "Epoch  6, CIFAR-10 Batch 1:  Loss:  0.594591\n",
      "Validation Accuracy:  0.661\n",
      "Epoch  6, CIFAR-10 Batch 2:  Loss:  0.397175\n",
      "Validation Accuracy:  0.67\n",
      "Epoch  6, CIFAR-10 Batch 3:  Loss:  0.381544\n",
      "Validation Accuracy:  0.6698\n",
      "Epoch  6, CIFAR-10 Batch 4:  Loss:  0.464524\n",
      "Validation Accuracy:  0.6692\n",
      "Epoch  6, CIFAR-10 Batch 5:  Loss:  0.418357\n",
      "Validation Accuracy:  0.6678\n",
      "Epoch  7, CIFAR-10 Batch 1:  Loss:  0.457812\n",
      "Validation Accuracy:  0.6782\n",
      "Epoch  7, CIFAR-10 Batch 2:  Loss:  0.341349\n",
      "Validation Accuracy:  0.6736\n",
      "Epoch  7, CIFAR-10 Batch 3:  Loss:  0.351099\n",
      "Validation Accuracy:  0.681\n",
      "Epoch  7, CIFAR-10 Batch 4:  Loss:  0.382449\n",
      "Validation Accuracy:  0.6686\n",
      "Epoch  7, CIFAR-10 Batch 5:  Loss:  0.373753\n",
      "Validation Accuracy:  0.6748\n",
      "Epoch  8, CIFAR-10 Batch 1:  Loss:  0.385955\n",
      "Validation Accuracy:  0.6828\n",
      "Epoch  8, CIFAR-10 Batch 2:  Loss:  0.237115\n",
      "Validation Accuracy:  0.6772\n",
      "Epoch  8, CIFAR-10 Batch 3:  Loss:  0.329341\n",
      "Validation Accuracy:  0.6828\n",
      "Epoch  8, CIFAR-10 Batch 4:  Loss:  0.315582\n",
      "Validation Accuracy:  0.6696\n",
      "Epoch  8, CIFAR-10 Batch 5:  Loss:  0.307785\n",
      "Validation Accuracy:  0.6772\n",
      "Epoch  9, CIFAR-10 Batch 1:  Loss:  0.308316\n",
      "Validation Accuracy:  0.686\n",
      "Epoch  9, CIFAR-10 Batch 2:  Loss:  0.204803\n",
      "Validation Accuracy:  0.6686\n",
      "Epoch  9, CIFAR-10 Batch 3:  Loss:  0.227417\n",
      "Validation Accuracy:  0.6852\n",
      "Epoch  9, CIFAR-10 Batch 4:  Loss:  0.282208\n",
      "Validation Accuracy:  0.6778\n",
      "Epoch  9, CIFAR-10 Batch 5:  Loss:  0.226076\n",
      "Validation Accuracy:  0.6826\n",
      "Epoch 10, CIFAR-10 Batch 1:  Loss:  0.26101\n",
      "Validation Accuracy:  0.6866\n",
      "Epoch 10, CIFAR-10 Batch 2:  Loss:  0.148134\n",
      "Validation Accuracy:  0.6894\n",
      "Epoch 10, CIFAR-10 Batch 3:  Loss:  0.229292\n",
      "Validation Accuracy:  0.6904\n",
      "Epoch 10, CIFAR-10 Batch 4:  Loss:  0.244783\n",
      "Validation Accuracy:  0.6892\n",
      "Epoch 10, CIFAR-10 Batch 5:  Loss:  0.210525\n",
      "Validation Accuracy:  0.6896\n",
      "Epoch 11, CIFAR-10 Batch 1:  Loss:  0.198814\n",
      "Validation Accuracy:  0.6902\n",
      "Epoch 11, CIFAR-10 Batch 2:  Loss:  0.143946\n",
      "Validation Accuracy:  0.6832\n",
      "Epoch 11, CIFAR-10 Batch 3:  Loss:  0.18044\n",
      "Validation Accuracy:  0.6854\n",
      "Epoch 11, CIFAR-10 Batch 4:  Loss:  0.159027\n",
      "Validation Accuracy:  0.6842\n",
      "Epoch 11, CIFAR-10 Batch 5:  Loss:  0.193255\n",
      "Validation Accuracy:  0.688\n",
      "Epoch 12, CIFAR-10 Batch 1:  Loss:  0.13696\n",
      "Validation Accuracy:  0.6954\n",
      "Epoch 12, CIFAR-10 Batch 2:  Loss:  0.0888372\n",
      "Validation Accuracy:  0.692\n",
      "Epoch 12, CIFAR-10 Batch 3:  Loss:  0.149588\n",
      "Validation Accuracy:  0.6908\n",
      "Epoch 12, CIFAR-10 Batch 4:  Loss:  0.148638\n",
      "Validation Accuracy:  0.6836\n",
      "Epoch 12, CIFAR-10 Batch 5:  Loss:  0.130886\n",
      "Validation Accuracy:  0.6916\n",
      "Epoch 13, CIFAR-10 Batch 1:  Loss:  0.107585\n",
      "Validation Accuracy:  0.6992\n",
      "Epoch 13, CIFAR-10 Batch 2:  Loss:  0.0782087\n",
      "Validation Accuracy:  0.6698\n",
      "Epoch 13, CIFAR-10 Batch 3:  Loss:  0.137465\n",
      "Validation Accuracy:  0.6822\n",
      "Epoch 13, CIFAR-10 Batch 4:  Loss:  0.113419\n",
      "Validation Accuracy:  0.6846\n",
      "Epoch 13, CIFAR-10 Batch 5:  Loss:  0.137644\n",
      "Validation Accuracy:  0.6964\n",
      "Epoch 14, CIFAR-10 Batch 1:  Loss:  0.122682\n",
      "Validation Accuracy:  0.6948\n",
      "Epoch 14, CIFAR-10 Batch 2:  Loss:  0.0579555\n",
      "Validation Accuracy:  0.6862\n",
      "Epoch 14, CIFAR-10 Batch 3:  Loss:  0.120748\n",
      "Validation Accuracy:  0.6734\n",
      "Epoch 14, CIFAR-10 Batch 4:  Loss:  0.114347\n",
      "Validation Accuracy:  0.6838\n",
      "Epoch 14, CIFAR-10 Batch 5:  Loss:  0.0828202\n",
      "Validation Accuracy:  0.6946\n",
      "Epoch 15, CIFAR-10 Batch 1:  Loss:  0.0934542\n",
      "Validation Accuracy:  0.6964\n",
      "Epoch 15, CIFAR-10 Batch 2:  Loss:  0.0436103\n",
      "Validation Accuracy:  0.691\n",
      "Epoch 15, CIFAR-10 Batch 3:  Loss:  0.104964\n",
      "Validation Accuracy:  0.6924\n",
      "Epoch 15, CIFAR-10 Batch 4:  Loss:  0.0728137\n",
      "Validation Accuracy:  0.6918\n",
      "Epoch 15, CIFAR-10 Batch 5:  Loss:  0.0685622\n",
      "Validation Accuracy:  0.693\n",
      "Epoch 16, CIFAR-10 Batch 1:  Loss:  0.0927946\n",
      "Validation Accuracy:  0.7038\n",
      "Epoch 16, CIFAR-10 Batch 2:  Loss:  0.0504727\n",
      "Validation Accuracy:  0.6936\n",
      "Epoch 16, CIFAR-10 Batch 3:  Loss:  0.0912066\n",
      "Validation Accuracy:  0.689\n",
      "Epoch 16, CIFAR-10 Batch 4:  Loss:  0.0770202\n",
      "Validation Accuracy:  0.6876\n",
      "Epoch 16, CIFAR-10 Batch 5:  Loss:  0.0612573\n",
      "Validation Accuracy:  0.6968\n",
      "Epoch 17, CIFAR-10 Batch 1:  Loss:  0.0607601\n",
      "Validation Accuracy:  0.7036\n",
      "Epoch 17, CIFAR-10 Batch 2:  Loss:  0.0384873\n",
      "Validation Accuracy:  0.6858\n",
      "Epoch 17, CIFAR-10 Batch 3:  Loss:  0.0751405\n",
      "Validation Accuracy:  0.6844\n",
      "Epoch 17, CIFAR-10 Batch 4:  Loss:  0.0639106\n",
      "Validation Accuracy:  0.6932\n",
      "Epoch 17, CIFAR-10 Batch 5:  Loss:  0.0560315\n",
      "Validation Accuracy:  0.6974\n",
      "Epoch 18, CIFAR-10 Batch 1:  Loss:  0.0469398\n",
      "Validation Accuracy:  0.6956\n",
      "Epoch 18, CIFAR-10 Batch 2:  Loss:  0.0240132\n",
      "Validation Accuracy:  0.6944\n",
      "Epoch 18, CIFAR-10 Batch 3:  Loss:  0.0776463\n",
      "Validation Accuracy:  0.6778\n",
      "Epoch 18, CIFAR-10 Batch 4:  Loss:  0.0518877\n",
      "Validation Accuracy:  0.6902\n",
      "Epoch 18, CIFAR-10 Batch 5:  Loss:  0.0415773\n",
      "Validation Accuracy:  0.701\n",
      "Epoch 19, CIFAR-10 Batch 1:  Loss:  0.0433157\n",
      "Validation Accuracy:  0.6954\n",
      "Epoch 19, CIFAR-10 Batch 2:  Loss:  0.0272228\n",
      "Validation Accuracy:  0.6926\n",
      "Epoch 19, CIFAR-10 Batch 3:  Loss:  0.0743923\n",
      "Validation Accuracy:  0.6958\n",
      "Epoch 19, CIFAR-10 Batch 4:  Loss:  0.0300487\n",
      "Validation Accuracy:  0.6936\n",
      "Epoch 19, CIFAR-10 Batch 5:  Loss:  0.0335523\n",
      "Validation Accuracy:  0.6898\n",
      "Epoch 20, CIFAR-10 Batch 1:  Loss:  0.0283523\n",
      "Validation Accuracy:  0.6966\n",
      "Epoch 20, CIFAR-10 Batch 2:  Loss:  0.0121129\n",
      "Validation Accuracy:  0.6982\n",
      "Epoch 20, CIFAR-10 Batch 3:  Loss:  0.0449109\n",
      "Validation Accuracy:  0.6878\n",
      "Epoch 20, CIFAR-10 Batch 4:  Loss:  0.0209705\n",
      "Validation Accuracy:  0.6946\n",
      "Epoch 20, CIFAR-10 Batch 5:  Loss:  0.0286926\n",
      "Validation Accuracy:  0.7044\n"
     ]
    }
   ],
   "source": [
    "\"\"\"\n",
    "DON'T MODIFY ANYTHING IN THIS CELL\n",
    "\"\"\"\n",
    "save_model_path = './image_classification'\n",
    "\n",
    "print('Training...')\n",
    "with tf.Session() as sess:\n",
    "    # Initializing the variables\n",
    "    sess.run(tf.global_variables_initializer())\n",
    "    \n",
    "    # Training cycle\n",
    "    for epoch in range(epochs):\n",
    "        # Loop over all batches\n",
    "        n_batches = 5\n",
    "        for batch_i in range(1, n_batches + 1):\n",
    "            for batch_features, batch_labels in helper.load_preprocess_training_batch(batch_i, batch_size):\n",
    "                train_neural_network(sess, optimizer, keep_probability, batch_features, batch_labels)\n",
    "            print('Epoch {:>2}, CIFAR-10 Batch {}:  '.format(epoch + 1, batch_i), end='')\n",
    "            print_stats(sess, batch_features, batch_labels, cost, accuracy)\n",
    "            \n",
    "    # Save Model\n",
    "    saver = tf.train.Saver()\n",
    "    save_path = saver.save(sess, save_model_path)"
   ]
  },
  {
   "cell_type": "markdown",
   "metadata": {
    "deletable": true,
    "editable": true
   },
   "source": [
    "# Checkpoint\n",
    "The model has been saved to disk.\n",
    "## Test Model\n",
    "Test your model against the test dataset.  This will be your final accuracy. You should have an accuracy greater than 50%. If you don't, keep tweaking the model architecture and parameters."
   ]
  },
  {
   "cell_type": "code",
   "execution_count": 161,
   "metadata": {
    "collapsed": false,
    "deletable": true,
    "editable": true
   },
   "outputs": [
    {
     "name": "stdout",
     "output_type": "stream",
     "text": [
      "Testing Accuracy: 0.6875988924050633\n",
      "\n"
     ]
    },
    {
     "data": {
      "image/png": "[encoded data removed]",
      "text/plain": [
       "<matplotlib.figure.Figure at 0x7f5751e8ff60>"
      ]
     },
     "metadata": {
      "image/png": {
       "height": 319,
       "width": 355
      }
     },
     "output_type": "display_data"
    }
   ],
   "source": [
    "\"\"\"\n",
    "DON'T MODIFY ANYTHING IN THIS CELL\n",
    "\"\"\"\n",
    "%matplotlib inline\n",
    "%config InlineBackend.figure_format = 'retina'\n",
    "\n",
    "import tensorflow as tf\n",
    "import pickle\n",
    "import helper\n",
    "import random\n",
    "\n",
    "# Set batch size if not already set\n",
    "try:\n",
    "    if batch_size:\n",
    "        pass\n",
    "except NameError:\n",
    "    batch_size = 64\n",
    "\n",
    "save_model_path = './image_classification'\n",
    "n_samples = 4\n",
    "top_n_predictions = 3\n",
    "\n",
    "def test_model():\n",
    "    \"\"\"\n",
    "    Test the saved model against the test dataset\n",
    "    \"\"\"\n",
    "\n",
    "    test_features, test_labels = pickle.load(open('preprocess_training.p', mode='rb'))\n",
    "    loaded_graph = tf.Graph()\n",
    "\n",
    "    with tf.Session(graph=loaded_graph) as sess:\n",
    "        # Load model\n",
    "        loader = tf.train.import_meta_graph(save_model_path + '.meta')\n",
    "        loader.restore(sess, save_model_path)\n",
    "\n",
    "        # Get Tensors from loaded model\n",
    "        loaded_x = loaded_graph.get_tensor_by_name('x:0')\n",
    "        loaded_y = loaded_graph.get_tensor_by_name('y:0')\n",
    "        loaded_keep_prob = loaded_graph.get_tensor_by_name('keep_prob:0')\n",
    "        loaded_logits = loaded_graph.get_tensor_by_name('logits:0')\n",
    "        loaded_acc = loaded_graph.get_tensor_by_name('accuracy:0')\n",
    "        \n",
    "        # Get accuracy in batches for memory limitations\n",
    "        test_batch_acc_total = 0\n",
    "        test_batch_count = 0\n",
    "        \n",
    "        for train_feature_batch, train_label_batch in helper.batch_features_labels(test_features, test_labels, batch_size):\n",
    "            test_batch_acc_total += sess.run(\n",
    "                loaded_acc,\n",
    "                feed_dict={loaded_x: train_feature_batch, loaded_y: train_label_batch, loaded_keep_prob: 1.0})\n",
    "            test_batch_count += 1\n",
    "\n",
    "        print('Testing Accuracy: {}\\n'.format(test_batch_acc_total/test_batch_count))\n",
    "\n",
    "        # Print Random Samples\n",
    "        random_test_features, random_test_labels = tuple(zip(*random.sample(list(zip(test_features, test_labels)), n_samples)))\n",
    "        random_test_predictions = sess.run(\n",
    "            tf.nn.top_k(tf.nn.softmax(loaded_logits), top_n_predictions),\n",
    "            feed_dict={loaded_x: random_test_features, loaded_y: random_test_labels, loaded_keep_prob: 1.0})\n",
    "        helper.display_image_predictions(random_test_features, random_test_labels, random_test_predictions)\n",
    "\n",
    "\n",
    "test_model()"
   ]
  },
  {
   "cell_type": "markdown",
   "metadata": {
    "deletable": true,
    "editable": true
   },
   "source": [
    "## Why 50-80% Accuracy?\n",
    "You might be wondering why you can't get an accuracy any higher. First things first, 50% isn't bad for a simple CNN.  Pure guessing would get you 10% accuracy. However, you might notice people are getting scores [well above 80%](http://rodrigob.github.io/are_we_there_yet/build/classification_datasets_results.html#43494641522d3130).  That's because we haven't taught you all there is to know about neural networks. We still need to cover a few more techniques.\n",
    "## Submitting This Project\n",
    "When submitting this project, make sure to run all the cells before saving the notebook.  Save the notebook file as \"dlnd_image_classification.ipynb\" and save it as a HTML file under \"File\" -> \"Download as\".  Include the \"helper.py\" and \"problem_unittests.py\" files in your submission."
   ]
  }
 ],
 "metadata": {
  "kernelspec": {
   "display_name": "Python 3",
   "language": "python",
   "name": "python3"
  },
  "language_info": {
   "codemirror_mode": {
    "name": "ipython",
    "version": 3
   },
   "file_extension": ".py",
   "mimetype": "text/x-python",
   "name": "python",
   "nbconvert_exporter": "python",
   "pygments_lexer": "ipython3",
   "version": "3.5.2"
  },
  "widgets": {
   "state": {},
   "version": "1.1.2"
  }
 },
 "nbformat": 4,
 "nbformat_minor": 1
}
